{
  "nbformat": 4,
  "nbformat_minor": 0,
  "metadata": {
    "colab": {
      "name": "RNN_baseline.ipynb",
      "provenance": [],
      "toc_visible": true,
      "authorship_tag": "ABX9TyMfJCG4wrDBIsfKehO2yBjy",
      "include_colab_link": true
    },
    "kernelspec": {
      "name": "python3",
      "display_name": "Python 3"
    }
  },
  "cells": [
    {
      "cell_type": "markdown",
      "metadata": {
        "id": "view-in-github",
        "colab_type": "text"
      },
      "source": [
        "<a href=\"https://colab.research.google.com/github/VinhDevNguyen/Project_Alpha/blob/RNN_baseline/RNN_baseline.ipynb\" target=\"_parent\"><img src=\"https://colab.research.google.com/assets/colab-badge.svg\" alt=\"Open In Colab\"/></a>"
      ]
    },
    {
      "cell_type": "markdown",
      "metadata": {
        "id": "Kx8s3aDhnIi4"
      },
      "source": [
        "# Mount Google Drive\r\n",
        "Data for ``Booking Challenge`` stores in ``UIT TSP``folder"
      ]
    },
    {
      "cell_type": "code",
      "metadata": {
        "colab": {
          "base_uri": "https://localhost:8080/"
        },
        "id": "3DAtPRJUnHqj",
        "outputId": "5f7037b7-39e4-4406-b9b4-877190af2c46"
      },
      "source": [
        "from google.colab import drive\r\n",
        "drive.mount('/content/drive')"
      ],
      "execution_count": 33,
      "outputs": [
        {
          "output_type": "stream",
          "text": [
            "Drive already mounted at /content/drive; to attempt to forcibly remount, call drive.mount(\"/content/drive\", force_remount=True).\n"
          ],
          "name": "stdout"
        }
      ]
    },
    {
      "cell_type": "markdown",
      "metadata": {
        "id": "y1dpK2JuomBa"
      },
      "source": [
        "# Data path"
      ]
    },
    {
      "cell_type": "code",
      "metadata": {
        "id": "3ZNxT-ccEgnt"
      },
      "source": [
        "import pandas as pd "
      ],
      "execution_count": 34,
      "outputs": []
    },
    {
      "cell_type": "code",
      "metadata": {
        "id": "wQYdX28EpKBX"
      },
      "source": [
        "folder_path = './drive/MyDrive/UIT-TSP/Booking.com Data Challenge'\r\n",
        "data_path = \"/content/drive/MyDrive/UIT-TSP/Booking.com Data Challenge/booking_train_set.csv\""
      ],
      "execution_count": 35,
      "outputs": []
    },
    {
      "cell_type": "code",
      "metadata": {
        "id": "4z__LORvEagj",
        "outputId": "2d36240c-f9e7-475a-ca22-2f9858b5aefe",
        "colab": {
          "base_uri": "https://localhost:8080/",
          "height": 191
        }
      },
      "source": [
        "df = pd.read_csv(data_path)\r\n",
        "df.head()"
      ],
      "execution_count": 36,
      "outputs": [
        {
          "output_type": "execute_result",
          "data": {
            "text/html": [
              "<div>\n",
              "<style scoped>\n",
              "    .dataframe tbody tr th:only-of-type {\n",
              "        vertical-align: middle;\n",
              "    }\n",
              "\n",
              "    .dataframe tbody tr th {\n",
              "        vertical-align: top;\n",
              "    }\n",
              "\n",
              "    .dataframe thead th {\n",
              "        text-align: right;\n",
              "    }\n",
              "</style>\n",
              "<table border=\"1\" class=\"dataframe\">\n",
              "  <thead>\n",
              "    <tr style=\"text-align: right;\">\n",
              "      <th></th>\n",
              "      <th>Unnamed: 0</th>\n",
              "      <th>user_id</th>\n",
              "      <th>checkin</th>\n",
              "      <th>checkout</th>\n",
              "      <th>city_id</th>\n",
              "      <th>device_class</th>\n",
              "      <th>affiliate_id</th>\n",
              "      <th>booker_country</th>\n",
              "      <th>hotel_country</th>\n",
              "      <th>utrip_id</th>\n",
              "    </tr>\n",
              "  </thead>\n",
              "  <tbody>\n",
              "    <tr>\n",
              "      <th>0</th>\n",
              "      <td>0</td>\n",
              "      <td>1006220</td>\n",
              "      <td>2016-04-09</td>\n",
              "      <td>2016-04-11</td>\n",
              "      <td>31114</td>\n",
              "      <td>desktop</td>\n",
              "      <td>384</td>\n",
              "      <td>Gondal</td>\n",
              "      <td>Gondal</td>\n",
              "      <td>1006220_1</td>\n",
              "    </tr>\n",
              "    <tr>\n",
              "      <th>1</th>\n",
              "      <td>1</td>\n",
              "      <td>1006220</td>\n",
              "      <td>2016-04-11</td>\n",
              "      <td>2016-04-12</td>\n",
              "      <td>39641</td>\n",
              "      <td>desktop</td>\n",
              "      <td>384</td>\n",
              "      <td>Gondal</td>\n",
              "      <td>Gondal</td>\n",
              "      <td>1006220_1</td>\n",
              "    </tr>\n",
              "    <tr>\n",
              "      <th>2</th>\n",
              "      <td>2</td>\n",
              "      <td>1006220</td>\n",
              "      <td>2016-04-12</td>\n",
              "      <td>2016-04-16</td>\n",
              "      <td>20232</td>\n",
              "      <td>desktop</td>\n",
              "      <td>384</td>\n",
              "      <td>Gondal</td>\n",
              "      <td>Glubbdubdrib</td>\n",
              "      <td>1006220_1</td>\n",
              "    </tr>\n",
              "    <tr>\n",
              "      <th>3</th>\n",
              "      <td>3</td>\n",
              "      <td>1006220</td>\n",
              "      <td>2016-04-16</td>\n",
              "      <td>2016-04-17</td>\n",
              "      <td>24144</td>\n",
              "      <td>desktop</td>\n",
              "      <td>384</td>\n",
              "      <td>Gondal</td>\n",
              "      <td>Gondal</td>\n",
              "      <td>1006220_1</td>\n",
              "    </tr>\n",
              "    <tr>\n",
              "      <th>4</th>\n",
              "      <td>4</td>\n",
              "      <td>1010293</td>\n",
              "      <td>2016-07-09</td>\n",
              "      <td>2016-07-10</td>\n",
              "      <td>5325</td>\n",
              "      <td>mobile</td>\n",
              "      <td>359</td>\n",
              "      <td>The Devilfire Empire</td>\n",
              "      <td>Cobra Island</td>\n",
              "      <td>1010293_1</td>\n",
              "    </tr>\n",
              "  </tbody>\n",
              "</table>\n",
              "</div>"
            ],
            "text/plain": [
              "   Unnamed: 0  user_id  ... hotel_country   utrip_id\n",
              "0           0  1006220  ...        Gondal  1006220_1\n",
              "1           1  1006220  ...        Gondal  1006220_1\n",
              "2           2  1006220  ...  Glubbdubdrib  1006220_1\n",
              "3           3  1006220  ...        Gondal  1006220_1\n",
              "4           4  1010293  ...  Cobra Island  1010293_1\n",
              "\n",
              "[5 rows x 10 columns]"
            ]
          },
          "metadata": {
            "tags": []
          },
          "execution_count": 36
        }
      ]
    },
    {
      "cell_type": "markdown",
      "metadata": {
        "id": "5Xg633w0mF5l"
      },
      "source": [
        "# Import libraries"
      ]
    },
    {
      "cell_type": "code",
      "metadata": {
        "id": "-Zgx_TCvi7I4"
      },
      "source": [
        "import math\r\n",
        "import torch\r\n",
        "import torch.nn as nn\r\n",
        "import torch.nn.functional as F"
      ],
      "execution_count": null,
      "outputs": []
    },
    {
      "cell_type": "markdown",
      "metadata": {
        "id": "Ee9SYN0fmVOe"
      },
      "source": [
        "# RNN with PyTorch "
      ]
    },
    {
      "cell_type": "code",
      "metadata": {
        "id": "rth6exvGmS-Y"
      },
      "source": [
        "class RNNModel(nn.Module):\r\n",
        "    \"\"\"Container module with an encoder, a recurrent module, and a decoder.\"\"\"\r\n",
        "\r\n",
        "    def __init__(self, \r\n",
        "                 vocab_size, \r\n",
        "                 emb_size=500, \r\n",
        "                 rnn_dim=500, \r\n",
        "                 n_layers=2, \r\n",
        "                 dropout=0.3, \r\n",
        "                 rnn_dropout=0.3, \r\n",
        "                 tie_weights=False):\r\n",
        "        super(RNNModel, self).__init__()\r\n",
        "        self.drop = nn.Dropout(dropout) \r\n",
        "        self.embedding = nn.Embedding(vocab_size,emb_dim) \r\n",
        "        self.rnn = nn.RNN(input_size=emb_dim,\r\n",
        "                          hidden_size=rnn_dim, \r\n",
        "                          num_layers=n_layers, \r\n",
        "                          dropout=rnn_dropout) \r\n",
        "        self.dense = nn.Linear(rnn_dim,vocab_size)\r\n",
        "\r\n",
        "        # Optionally tie weights as in:\r\n",
        "        # \"Using the Output Embedding to Improve Language Models\" (Press & Wolf 2016)\r\n",
        "        # https://arxiv.org/abs/1608.05859\r\n",
        "        # and\r\n",
        "        # \"Tying Word Vectors and Word Classifiers: A Loss Framework for Language Modeling\" (Inan et al. 2016)\r\n",
        "        # https://arxiv.org/abs/1611.01462\r\n",
        "        if tie_weights: # theta_d = theta_y\r\n",
        "          self.dense.weight = self.embedding.weight\r\n",
        "\r\n",
        "        self.vocab_size = vocab_size \r\n",
        "        self.emb_size = emb_size \r\n",
        "        self.rnn_dim = rnn_dim \r\n",
        "        self.n_layers = n_layers \r\n",
        "        self.dropout = dropout \r\n",
        "        self.rnn_dropout = rnn_dropout \r\n",
        "        self.tie_weights = tie_weights \r\n",
        "\r\n",
        "\r\n",
        "    # def init_weights(self):\r\n",
        "    #     initrange = 0.1\r\n",
        "    #     nn.init.uniform_(self.encoder.weight, -initrange, initrange)\r\n",
        "    #     nn.init.zeros_(self.decoder.weight)\r\n",
        "    #     nn.init.uniform_(self.decoder.weight, -initrange, initrange)\r\n",
        "\r\n",
        "    # Not clear here \r\n",
        "    def forward(self, input, h0=None): \r\n",
        "      out, hidden = self.rnn(\r\n",
        "                      self.drop(\r\n",
        "                          self.embedding(input)),\r\n",
        "                      h0)\r\n",
        "      out = self.dense(self.drop(\r\n",
        "                            out.view(\r\n",
        "                                out.size(0)*out.size(1),\r\n",
        "                                out.size(2)))\r\n",
        "                      )\r\n",
        "      return out, hidden \r\n",
        "\r\n",
        "    # def forward(self, input, hidden):\r\n",
        "    #     emb = self.drop(self.encoder(input))\r\n",
        "    #     output, hidden = self.rnn(emb, hidden)\r\n",
        "    #     output = self.drop(output)\r\n",
        "    #     decoded = self.decoder(output)\r\n",
        "    #     decoded = decoded.view(-1, self.ntoken)\r\n",
        "    #     return F.log_softmax(decoded, dim=1), hidden\r\n",
        "\r\n",
        "    # def init_hidden(self, bsz):\r\n",
        "    #     weight = next(self.parameters())\r\n",
        "    #     if self.rnn_type == 'LSTM':\r\n",
        "    #         return (weight.new_zeros(self.nlayers, bsz, self.nhid),\r\n",
        "    #                 weight.new_zeros(self.nlayers, bsz, self.nhid))\r\n",
        "    #     else:\r\n",
        "    #         return weight.new_zeros(self.nlayers, bsz, self.nhid)\r\n",
        "\r\n",
        "    # def save_model(self): \r\n",
        "\r\n",
        "    # def load_model(self): \r\n",
        "\r\n"
      ],
      "execution_count": null,
      "outputs": []
    },
    {
      "cell_type": "markdown",
      "metadata": {
        "id": "Y3OZVL5__S3E"
      },
      "source": [
        "# RNN with Tensorflow "
      ]
    },
    {
      "cell_type": "markdown",
      "metadata": {
        "id": "dJqPRVJl_Zxi"
      },
      "source": [
        "## Import libraries "
      ]
    },
    {
      "cell_type": "code",
      "metadata": {
        "id": "u5Q4_aSfpb10"
      },
      "source": [
        "import numpy as np\r\n",
        "import tensorflow as tf\r\n",
        "from tensorflow import keras\r\n",
        "from tensorflow.keras import layers"
      ],
      "execution_count": 37,
      "outputs": []
    },
    {
      "cell_type": "markdown",
      "metadata": {
        "id": "U7cYSPXiAbc5"
      },
      "source": [
        "## create RNN model "
      ]
    },
    {
      "cell_type": "code",
      "metadata": {
        "id": "GfAIeO1c_cgD"
      },
      "source": [
        "def create_RNN_model(\r\n",
        "          vocab_size, \r\n",
        "          emb_size=500, \r\n",
        "          rnn_dim=500, \r\n",
        "          n_layers=2, \r\n",
        "          dropout=0.3, \r\n",
        "          rnn_dropout=0.3, \r\n",
        "          tie_weights=False):\r\n",
        "\r\n",
        "  model = keras.Sequential()\r\n",
        "  model.add(layers.Embedding(input_dim=emb_size, output_dim=4 ))\r\n",
        "\r\n",
        "  # The output of GRU will be a 3D tensor of shape (batch_size, timesteps, 256)\r\n",
        "  model.add(layers.GRU(256, return_sequences=True))\r\n",
        "\r\n",
        "  # The output of SimpleRNN will be a 2D tensor of shape (batch_size, 128)\r\n",
        "  model.add(layers.SimpleRNN(128))\r\n",
        "\r\n",
        "  model.add(layers.Dense(10))\r\n",
        "\r\n",
        "  model.summary()\r\n",
        "\r\n",
        "  return model "
      ],
      "execution_count": null,
      "outputs": []
    },
    {
      "cell_type": "code",
      "metadata": {
        "id": "c0YXUAhn_jYE"
      },
      "source": [
        "model = create_RNN_model()"
      ],
      "execution_count": null,
      "outputs": []
    },
    {
      "cell_type": "markdown",
      "metadata": {
        "id": "jMBgipi3_WEB"
      },
      "source": [
        "## RNN model class "
      ]
    },
    {
      "cell_type": "code",
      "metadata": {
        "id": "fInLvhds36aJ"
      },
      "source": [
        "class RNNModel:\r\n",
        "    def __init__(self, \r\n",
        "                 vocab_size, \r\n",
        "                 emb_size=500, \r\n",
        "                 rnn_dim=500, \r\n",
        "                 n_layers=2, \r\n",
        "                 dropout=0.3, \r\n",
        "                 rnn_dropout=0.3): \r\n",
        "        self.drop = nn.Dropout(dropout) \r\n",
        "        self.embedding = nn.Embedding(vocab_size,emb_dim) \r\n",
        "        self.rnn = nn.RNN(input_size=emb_dim,\r\n",
        "                          hidden_size=rnn_dim, \r\n",
        "                          num_layers=n_layers, \r\n",
        "                          dropout=rnn_dropout) \r\n",
        "\r\n",
        "        self.dense = nn.Linear(rnn_dim,vocab_size)\r\n",
        "\r\n",
        "\r\n",
        "        self.vocab_size = vocab_size \r\n",
        "        self.emb_size = emb_size \r\n",
        "        self.rnn_dim = rnn_dim \r\n",
        "        self.n_layers = n_layers \r\n",
        "        self.dropout = dropout \r\n",
        "        self.rnn_dropout = rnn_dropout \r\n",
        "        self.tie_weights = tie_weights \r\n",
        "\r\n",
        "        self.model = create_RNN_model(vocab_size, emb_size, rnn_size, n_layers = n_layers, \r\n",
        "                                      dropout = dropout, rnn_dropout=rnn_dropout,\r\n",
        "                                      tie_weights=tie_weights)\r\n",
        "\r\n",
        "    # Not clear here \r\n",
        "    def forward(self, input, h0=None): \r\n",
        "      out, hidden = self.rnn(\r\n",
        "                      self.drop(\r\n",
        "                          self.embedding(input)),\r\n",
        "                      h0)\r\n",
        "      out = self.dense(self.drop(\r\n",
        "                            out.view(\r\n",
        "                                out.size(0)*out.size(1),\r\n",
        "                                out.size(2)))\r\n",
        "                      )\r\n",
        "      return out, hidden \r\n",
        "\r\n",
        "    # def train(self): \r\n",
        "    # def save_model(self):\r\n",
        "    # def load_model(self):"
      ],
      "execution_count": null,
      "outputs": []
    },
    {
      "cell_type": "code",
      "metadata": {
        "id": "1mEShcDu9rwY"
      },
      "source": [
        "# ## Testing \r\n",
        "# paragraph1 = np.random.random((20, 10, 50)).astype(np.float32)\r\n",
        "# paragraph2 = np.random.random((20, 10, 50)).astype(np.float32)\r\n",
        "# paragraph3 = np.random.random((20, 10, 50)).astype(np.float32)\r\n",
        "\r\n",
        "# lstm_layer = layers.LSTM(64, stateful=True)\r\n",
        "# output = lstm_layer(paragraph1)\r\n",
        "# output = lstm_layer(paragraph2)\r\n",
        "\r\n",
        "# existing_state = lstm_layer.states\r\n",
        "\r\n",
        "# new_lstm_layer = layers.LSTM(64)\r\n",
        "# new_output = new_lstm_layer(paragraph3, initial_state=existing_state)\r\n"
      ],
      "execution_count": 2,
      "outputs": []
    },
    {
      "cell_type": "code",
      "metadata": {
        "id": "6tFMx2s-95h4",
        "outputId": "a0a2f790-ee67-40b3-ab31-4e169dd310e2",
        "colab": {
          "base_uri": "https://localhost:8080/"
        }
      },
      "source": [
        "# paragraph1 "
      ],
      "execution_count": 5,
      "outputs": [
        {
          "output_type": "execute_result",
          "data": {
            "text/plain": [
              "array([[[0.4384477 , 0.70959634, 0.15308669, ..., 0.28581852,\n",
              "         0.22975205, 0.3308152 ],\n",
              "        [0.9046204 , 0.05282678, 0.34636778, ..., 0.104307  ,\n",
              "         0.95794   , 0.85673577],\n",
              "        [0.17676865, 0.34466982, 0.46606266, ..., 0.89375216,\n",
              "         0.90824926, 0.032717  ],\n",
              "        ...,\n",
              "        [0.07953037, 0.02336469, 0.9040275 , ..., 0.37990856,\n",
              "         0.5449542 , 0.11931679],\n",
              "        [0.13505265, 0.06546313, 0.91656995, ..., 0.96330225,\n",
              "         0.35127148, 0.30735272],\n",
              "        [0.43864247, 0.09331185, 0.0787064 , ..., 0.68661904,\n",
              "         0.21598631, 0.21987194]],\n",
              "\n",
              "       [[0.5607646 , 0.21337695, 0.24137759, ..., 0.7216155 ,\n",
              "         0.5272271 , 0.02199812],\n",
              "        [0.859154  , 0.55872273, 0.8249309 , ..., 0.47798792,\n",
              "         0.10819671, 0.81250495],\n",
              "        [0.01605468, 0.9332755 , 0.75010777, ..., 0.02574055,\n",
              "         0.3090186 , 0.17313221],\n",
              "        ...,\n",
              "        [0.4615367 , 0.5239395 , 0.3345207 , ..., 0.31028378,\n",
              "         0.71332794, 0.7954804 ],\n",
              "        [0.69030744, 0.00414923, 0.64131063, ..., 0.80923724,\n",
              "         0.27126586, 0.28260955],\n",
              "        [0.9700208 , 0.09314438, 0.2891947 , ..., 0.7265267 ,\n",
              "         0.05552297, 0.80999446]],\n",
              "\n",
              "       [[0.55349773, 0.55608046, 0.6532228 , ..., 0.26613623,\n",
              "         0.7346687 , 0.8241635 ],\n",
              "        [0.76386535, 0.5012166 , 0.7571798 , ..., 0.02644019,\n",
              "         0.7859128 , 0.96296227],\n",
              "        [0.27788776, 0.90432376, 0.7006134 , ..., 0.6916032 ,\n",
              "         0.4892773 , 0.7297027 ],\n",
              "        ...,\n",
              "        [0.2639081 , 0.08462964, 0.4274762 , ..., 0.1532014 ,\n",
              "         0.41439676, 0.8959537 ],\n",
              "        [0.71709794, 0.55632573, 0.10872711, ..., 0.05398476,\n",
              "         0.3508628 , 0.24136817],\n",
              "        [0.6666846 , 0.36440343, 0.7210429 , ..., 0.84162337,\n",
              "         0.22479475, 0.68267566]],\n",
              "\n",
              "       ...,\n",
              "\n",
              "       [[0.58290297, 0.01104978, 0.6161393 , ..., 0.16377287,\n",
              "         0.44222137, 0.8503619 ],\n",
              "        [0.26560766, 0.00346799, 0.66688883, ..., 0.9459356 ,\n",
              "         0.5727698 , 0.8886736 ],\n",
              "        [0.526636  , 0.6057371 , 0.23933837, ..., 0.32031795,\n",
              "         0.5378725 , 0.76860344],\n",
              "        ...,\n",
              "        [0.82811105, 0.9331024 , 0.66108364, ..., 0.5572996 ,\n",
              "         0.88154   , 0.6756931 ],\n",
              "        [0.81059194, 0.04841247, 0.3076325 , ..., 0.81151026,\n",
              "         0.29187292, 0.83508235],\n",
              "        [0.36365023, 0.9010135 , 0.11735665, ..., 0.2400887 ,\n",
              "         0.9414961 , 0.39943326]],\n",
              "\n",
              "       [[0.83466893, 0.1847028 , 0.00329075, ..., 0.81031096,\n",
              "         0.33922243, 0.5856755 ],\n",
              "        [0.3320365 , 0.45945257, 0.41548407, ..., 0.982118  ,\n",
              "         0.6817168 , 0.16656232],\n",
              "        [0.7029687 , 0.26669392, 0.70029014, ..., 0.5132876 ,\n",
              "         0.9931527 , 0.5020733 ],\n",
              "        ...,\n",
              "        [0.3489829 , 0.5959882 , 0.4975898 , ..., 0.1653224 ,\n",
              "         0.9521973 , 0.01977547],\n",
              "        [0.50557965, 0.9298632 , 0.00339681, ..., 0.47428733,\n",
              "         0.6818275 , 0.7145517 ],\n",
              "        [0.7778242 , 0.05746478, 0.83536386, ..., 0.40945137,\n",
              "         0.8653515 , 0.7685684 ]],\n",
              "\n",
              "       [[0.49018666, 0.02631567, 0.41822246, ..., 0.33115557,\n",
              "         0.79958516, 0.8605088 ],\n",
              "        [0.6555573 , 0.05526401, 0.14900555, ..., 0.263111  ,\n",
              "         0.9514291 , 0.46111503],\n",
              "        [0.84376544, 0.4024486 , 0.5931128 , ..., 0.65488505,\n",
              "         0.45842838, 0.68300235],\n",
              "        ...,\n",
              "        [0.7334061 , 0.57921857, 0.08395816, ..., 0.03707851,\n",
              "         0.3458865 , 0.17949723],\n",
              "        [0.04974084, 0.8059455 , 0.4086997 , ..., 0.37965295,\n",
              "         0.48380828, 0.63552356],\n",
              "        [0.96804607, 0.4552574 , 0.09933035, ..., 0.16562337,\n",
              "         0.672737  , 0.44912988]]], dtype=float32)"
            ]
          },
          "metadata": {
            "tags": []
          },
          "execution_count": 5
        }
      ]
    },
    {
      "cell_type": "code",
      "metadata": {
        "id": "0IP2RFXU_hQH",
        "outputId": "4c01f721-488f-4061-8723-584eb2216290",
        "colab": {
          "base_uri": "https://localhost:8080/"
        }
      },
      "source": [
        "output\r\n"
      ],
      "execution_count": 3,
      "outputs": [
        {
          "output_type": "execute_result",
          "data": {
            "text/plain": [
              "<tf.Tensor: shape=(20, 64), dtype=float32, numpy=\n",
              "array([[-0.26159257,  0.3828493 , -0.06094625, ...,  0.41688082,\n",
              "         0.06902932,  0.17313975],\n",
              "       [-0.22398742,  0.3048276 ,  0.01105477, ...,  0.3025591 ,\n",
              "        -0.09937311,  0.16212305],\n",
              "       [-0.1873369 ,  0.28067118, -0.0903695 , ...,  0.47735262,\n",
              "         0.09688166,  0.10506968],\n",
              "       ...,\n",
              "       [-0.2334649 ,  0.42825425, -0.08432736, ...,  0.33124694,\n",
              "         0.13678132,  0.16629355],\n",
              "       [-0.24908844,  0.33447886, -0.10338344, ...,  0.37441865,\n",
              "         0.12842214,  0.04302474],\n",
              "       [-0.12451277,  0.36226118, -0.15007631, ...,  0.34746057,\n",
              "         0.12647597,  0.1358475 ]], dtype=float32)>"
            ]
          },
          "metadata": {
            "tags": []
          },
          "execution_count": 3
        }
      ]
    },
    {
      "cell_type": "code",
      "metadata": {
        "id": "7ND6x_1q917z",
        "outputId": "6e87c999-5ae6-43e7-f794-985b0434a4ab",
        "colab": {
          "base_uri": "https://localhost:8080/"
        }
      },
      "source": [
        "# new_output"
      ],
      "execution_count": 4,
      "outputs": [
        {
          "output_type": "execute_result",
          "data": {
            "text/plain": [
              "<tf.Tensor: shape=(20, 64), dtype=float32, numpy=\n",
              "array([[ 0.07265107,  0.12564135,  0.2950572 , ..., -0.00305309,\n",
              "         0.30196252, -0.19266294],\n",
              "       [ 0.10832786, -0.02208175,  0.19994555, ..., -0.15402594,\n",
              "         0.15071553, -0.12331202],\n",
              "       [ 0.04492785, -0.01332777,  0.16630736, ..., -0.03083682,\n",
              "         0.26744378, -0.19593215],\n",
              "       ...,\n",
              "       [ 0.06476085, -0.00676946,  0.22334988, ..., -0.06385501,\n",
              "         0.20579292, -0.1357603 ],\n",
              "       [ 0.02144044,  0.03727771,  0.2299651 , ..., -0.06008133,\n",
              "         0.2050588 , -0.12643524],\n",
              "       [-0.01233856, -0.00042944,  0.24162439, ..., -0.13264933,\n",
              "         0.28603524, -0.0941027 ]], dtype=float32)>"
            ]
          },
          "metadata": {
            "tags": []
          },
          "execution_count": 4
        }
      ]
    },
    {
      "cell_type": "code",
      "metadata": {
        "id": "6lKfqrp--Q8j",
        "outputId": "869f91d7-36db-4d86-96cb-32bfff328c9a",
        "colab": {
          "base_uri": "https://localhost:8080/"
        }
      },
      "source": [
        "# # Test embedding \r\n",
        "# encoder_vocab = 1000\r\n",
        "# decoder_vocab = 2000\r\n",
        "\r\n",
        "# encoder_input = layers.Input(shape=(None,))\r\n",
        "# encoder_embedded = layers.Embedding(input_dim=encoder_vocab, output_dim=64)(\r\n",
        "#     encoder_input\r\n",
        "# )\r\n",
        "\r\n",
        "# # Return states in addition to output\r\n",
        "# output, state_h, state_c = layers.LSTM(64, return_state=True, name=\"encoder\")(\r\n",
        "#     encoder_embedded\r\n",
        "# )\r\n",
        "# encoder_state = [state_h, state_c]\r\n",
        "\r\n",
        "# decoder_input = layers.Input(shape=(None,))\r\n",
        "# decoder_embedded = layers.Embedding(input_dim=decoder_vocab, output_dim=64)(\r\n",
        "#     decoder_input\r\n",
        "# )\r\n",
        "\r\n",
        "# # Pass the 2 states to a new LSTM layer, as initial state\r\n",
        "# decoder_output = layers.LSTM(64, name=\"decoder\")(\r\n",
        "#     decoder_embedded, initial_state=encoder_state\r\n",
        "# )\r\n",
        "# output = layers.Dense(10)(decoder_output)\r\n",
        "\r\n",
        "# model = keras.Model([encoder_input, decoder_input], output)\r\n",
        "# model.summary()"
      ],
      "execution_count": 6,
      "outputs": [
        {
          "output_type": "stream",
          "text": [
            "Model: \"model\"\n",
            "__________________________________________________________________________________________________\n",
            "Layer (type)                    Output Shape         Param #     Connected to                     \n",
            "==================================================================================================\n",
            "input_1 (InputLayer)            [(None, None)]       0                                            \n",
            "__________________________________________________________________________________________________\n",
            "input_2 (InputLayer)            [(None, None)]       0                                            \n",
            "__________________________________________________________________________________________________\n",
            "embedding (Embedding)           (None, None, 64)     64000       input_1[0][0]                    \n",
            "__________________________________________________________________________________________________\n",
            "embedding_1 (Embedding)         (None, None, 64)     128000      input_2[0][0]                    \n",
            "__________________________________________________________________________________________________\n",
            "encoder (LSTM)                  [(None, 64), (None,  33024       embedding[0][0]                  \n",
            "__________________________________________________________________________________________________\n",
            "decoder (LSTM)                  (None, 64)           33024       embedding_1[0][0]                \n",
            "                                                                 encoder[0][1]                    \n",
            "                                                                 encoder[0][2]                    \n",
            "__________________________________________________________________________________________________\n",
            "dense (Dense)                   (None, 10)           650         decoder[0][0]                    \n",
            "==================================================================================================\n",
            "Total params: 258,698\n",
            "Trainable params: 258,698\n",
            "Non-trainable params: 0\n",
            "__________________________________________________________________________________________________\n"
          ],
          "name": "stdout"
        }
      ]
    },
    {
      "cell_type": "code",
      "metadata": {
        "id": "-hStnNjZ5N7n"
      },
      "source": [
        ""
      ],
      "execution_count": null,
      "outputs": []
    },
    {
      "cell_type": "markdown",
      "metadata": {
        "id": "NOV-icRADe1p"
      },
      "source": [
        "# Test Embedding "
      ]
    },
    {
      "cell_type": "code",
      "metadata": {
        "id": "BpIeZQaiFONZ",
        "outputId": "dfdc78a2-5338-4494-b5e5-29aa4380c7a2",
        "colab": {
          "base_uri": "https://localhost:8080/",
          "height": 191
        }
      },
      "source": [
        "df.head()"
      ],
      "execution_count": 39,
      "outputs": [
        {
          "output_type": "execute_result",
          "data": {
            "text/html": [
              "<div>\n",
              "<style scoped>\n",
              "    .dataframe tbody tr th:only-of-type {\n",
              "        vertical-align: middle;\n",
              "    }\n",
              "\n",
              "    .dataframe tbody tr th {\n",
              "        vertical-align: top;\n",
              "    }\n",
              "\n",
              "    .dataframe thead th {\n",
              "        text-align: right;\n",
              "    }\n",
              "</style>\n",
              "<table border=\"1\" class=\"dataframe\">\n",
              "  <thead>\n",
              "    <tr style=\"text-align: right;\">\n",
              "      <th></th>\n",
              "      <th>Unnamed: 0</th>\n",
              "      <th>user_id</th>\n",
              "      <th>checkin</th>\n",
              "      <th>checkout</th>\n",
              "      <th>city_id</th>\n",
              "      <th>device_class</th>\n",
              "      <th>affiliate_id</th>\n",
              "      <th>booker_country</th>\n",
              "      <th>hotel_country</th>\n",
              "      <th>utrip_id</th>\n",
              "    </tr>\n",
              "  </thead>\n",
              "  <tbody>\n",
              "    <tr>\n",
              "      <th>0</th>\n",
              "      <td>0</td>\n",
              "      <td>1006220</td>\n",
              "      <td>2016-04-09</td>\n",
              "      <td>2016-04-11</td>\n",
              "      <td>31114</td>\n",
              "      <td>desktop</td>\n",
              "      <td>384</td>\n",
              "      <td>Gondal</td>\n",
              "      <td>Gondal</td>\n",
              "      <td>1006220_1</td>\n",
              "    </tr>\n",
              "    <tr>\n",
              "      <th>1</th>\n",
              "      <td>1</td>\n",
              "      <td>1006220</td>\n",
              "      <td>2016-04-11</td>\n",
              "      <td>2016-04-12</td>\n",
              "      <td>39641</td>\n",
              "      <td>desktop</td>\n",
              "      <td>384</td>\n",
              "      <td>Gondal</td>\n",
              "      <td>Gondal</td>\n",
              "      <td>1006220_1</td>\n",
              "    </tr>\n",
              "    <tr>\n",
              "      <th>2</th>\n",
              "      <td>2</td>\n",
              "      <td>1006220</td>\n",
              "      <td>2016-04-12</td>\n",
              "      <td>2016-04-16</td>\n",
              "      <td>20232</td>\n",
              "      <td>desktop</td>\n",
              "      <td>384</td>\n",
              "      <td>Gondal</td>\n",
              "      <td>Glubbdubdrib</td>\n",
              "      <td>1006220_1</td>\n",
              "    </tr>\n",
              "    <tr>\n",
              "      <th>3</th>\n",
              "      <td>3</td>\n",
              "      <td>1006220</td>\n",
              "      <td>2016-04-16</td>\n",
              "      <td>2016-04-17</td>\n",
              "      <td>24144</td>\n",
              "      <td>desktop</td>\n",
              "      <td>384</td>\n",
              "      <td>Gondal</td>\n",
              "      <td>Gondal</td>\n",
              "      <td>1006220_1</td>\n",
              "    </tr>\n",
              "    <tr>\n",
              "      <th>4</th>\n",
              "      <td>4</td>\n",
              "      <td>1010293</td>\n",
              "      <td>2016-07-09</td>\n",
              "      <td>2016-07-10</td>\n",
              "      <td>5325</td>\n",
              "      <td>mobile</td>\n",
              "      <td>359</td>\n",
              "      <td>The Devilfire Empire</td>\n",
              "      <td>Cobra Island</td>\n",
              "      <td>1010293_1</td>\n",
              "    </tr>\n",
              "  </tbody>\n",
              "</table>\n",
              "</div>"
            ],
            "text/plain": [
              "   Unnamed: 0  user_id  ... hotel_country   utrip_id\n",
              "0           0  1006220  ...        Gondal  1006220_1\n",
              "1           1  1006220  ...        Gondal  1006220_1\n",
              "2           2  1006220  ...  Glubbdubdrib  1006220_1\n",
              "3           3  1006220  ...        Gondal  1006220_1\n",
              "4           4  1010293  ...  Cobra Island  1010293_1\n",
              "\n",
              "[5 rows x 10 columns]"
            ]
          },
          "metadata": {
            "tags": []
          },
          "execution_count": 39
        }
      ]
    },
    {
      "cell_type": "code",
      "metadata": {
        "id": "vYHaVU-pFJ0x",
        "outputId": "e7fa5034-fb0b-401c-88dd-1656b1241a2d",
        "colab": {
          "base_uri": "https://localhost:8080/"
        }
      },
      "source": [
        "doc_utrip = df['utrip_id']\r\n",
        "print(len(doc_utrip))\r\n",
        "doc_utrip.head()"
      ],
      "execution_count": 40,
      "outputs": [
        {
          "output_type": "stream",
          "text": [
            "1166835\n"
          ],
          "name": "stdout"
        },
        {
          "output_type": "execute_result",
          "data": {
            "text/plain": [
              "0    1006220_1\n",
              "1    1006220_1\n",
              "2    1006220_1\n",
              "3    1006220_1\n",
              "4    1010293_1\n",
              "Name: utrip_id, dtype: object"
            ]
          },
          "metadata": {
            "tags": []
          },
          "execution_count": 40
        }
      ]
    },
    {
      "cell_type": "code",
      "metadata": {
        "id": "VwglaU-lHAwc",
        "outputId": "2ea54227-9bf6-4c9e-efdd-34aff87e1cab",
        "colab": {
          "base_uri": "https://localhost:8080/"
        }
      },
      "source": [
        "# Get label\r\n",
        "utrip_label = df['utrip_id'].unique()\r\n",
        "print(len(utrip_label))\r\n",
        "utrip_label"
      ],
      "execution_count": 41,
      "outputs": [
        {
          "output_type": "stream",
          "text": [
            "217686\n"
          ],
          "name": "stdout"
        },
        {
          "output_type": "execute_result",
          "data": {
            "text/plain": [
              "array(['1006220_1', '1010293_1', '1012680_1', ..., '987787_1', '999261_1',\n",
              "       '999755_1'], dtype=object)"
            ]
          },
          "metadata": {
            "tags": []
          },
          "execution_count": 41
        }
      ]
    },
    {
      "cell_type": "code",
      "metadata": {
        "id": "Se-uLU-cGBMl"
      },
      "source": [
        "from numpy import array\r\n",
        "from keras.preprocessing.text import one_hot\r\n",
        "from keras.preprocessing.sequence import pad_sequences\r\n",
        "from keras.models import Sequential\r\n",
        "from keras.layers import Dense\r\n",
        "from keras.layers import Flatten\r\n",
        "from keras.layers.embeddings import Embedding"
      ],
      "execution_count": 42,
      "outputs": []
    },
    {
      "cell_type": "code",
      "metadata": {
        "id": "FrdufvACDgI6",
        "outputId": "aae39816-234b-4583-903a-516d3e0c54a4",
        "colab": {
          "base_uri": "https://localhost:8080/"
        }
      },
      "source": [
        "vocab_size = 217687\r\n",
        "max_length = len(doc_utrip) \r\n",
        "print('vocab size ', vocab_size)\r\n",
        "print('max length ', max_length)"
      ],
      "execution_count": 43,
      "outputs": [
        {
          "output_type": "stream",
          "text": [
            "vocab size  217687\n",
            "max length  1166835\n"
          ],
          "name": "stdout"
        }
      ]
    },
    {
      "cell_type": "code",
      "metadata": {
        "id": "0FaASHXXGGON",
        "outputId": "cbec9157-cf8a-4c41-eac7-3c3a022feb12",
        "colab": {
          "base_uri": "https://localhost:8080/"
        }
      },
      "source": [
        "from keras.models import Sequential\r\n",
        "from keras.layers import LSTM, Dense, Dropout, Masking, Embedding\r\n",
        "\r\n",
        "model = Sequential()\r\n",
        "\r\n",
        "# Embedding layer\r\n",
        "model.add(\r\n",
        "   Embedding(1166835,48) \r\n",
        ")\r\n",
        "# model.add(\r\n",
        "#     Embedding(input_dim=num_words,\r\n",
        "#               input_length = training_length,\r\n",
        "#               output_dim=100,\r\n",
        "#               weights=[embedding_matrix],\r\n",
        "#               trainable=False,\r\n",
        "#               mask_zero=True))\r\n",
        "\r\n",
        "# # Masking layer for pre-trained embeddings\r\n",
        "# model.add(Masking(mask_value=0.0))\r\n",
        "\r\n",
        "# Recurrent layer\r\n",
        "model.add(LSTM(64, return_sequences=False, \r\n",
        "               dropout=0.1, recurrent_dropout=0.1))\r\n",
        "\r\n",
        "# Fully connected layer\r\n",
        "model.add(Dense(64, activation='relu'))\r\n",
        "\r\n",
        "# Dropout for regularization\r\n",
        "model.add(Dropout(0.5))\r\n",
        "\r\n",
        "# Output layer\r\n",
        "model.add(Dense(4, activation='softmax'))\r\n",
        "\r\n",
        "# Compile the model\r\n",
        "model.compile(\r\n",
        "    optimizer='adam', loss='categorical_crossentropy', metrics=['accuracy'])\r\n",
        "  \r\n",
        "model.summary()"
      ],
      "execution_count": 50,
      "outputs": [
        {
          "output_type": "stream",
          "text": [
            "Model: \"sequential_10\"\n",
            "_________________________________________________________________\n",
            "Layer (type)                 Output Shape              Param #   \n",
            "=================================================================\n",
            "embedding_9 (Embedding)      (None, None, 48)          56008080  \n",
            "_________________________________________________________________\n",
            "lstm_9 (LSTM)                (None, 64)                28928     \n",
            "_________________________________________________________________\n",
            "dense_14 (Dense)             (None, 64)                4160      \n",
            "_________________________________________________________________\n",
            "dropout_7 (Dropout)          (None, 64)                0         \n",
            "_________________________________________________________________\n",
            "dense_15 (Dense)             (None, 4)                 260       \n",
            "=================================================================\n",
            "Total params: 56,041,428\n",
            "Trainable params: 56,041,428\n",
            "Non-trainable params: 0\n",
            "_________________________________________________________________\n"
          ],
          "name": "stdout"
        }
      ]
    },
    {
      "cell_type": "code",
      "metadata": {
        "id": "orbwRdaXyxct",
        "outputId": "38e2120b-0677-4f0f-bb0c-04a794ab077f",
        "colab": {
          "base_uri": "https://localhost:8080/"
        }
      },
      "source": [
        ""
      ],
      "execution_count": 1,
      "outputs": [
        {
          "output_type": "stream",
          "text": [
            "fatal: not a git repository (or any of the parent directories): .git\n"
          ],
          "name": "stdout"
        }
      ]
    }
  ]
}